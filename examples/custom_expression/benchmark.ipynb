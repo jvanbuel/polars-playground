{
 "cells": [
  {
   "cell_type": "code",
   "execution_count": 4,
   "metadata": {},
   "outputs": [],
   "source": [
    "import polars as pl\n",
    "from polars_casing import Casing  # noqa\n",
    "from wonderwords import RandomSentence\n",
    "\n",
    "\n",
    "s = RandomSentence()\n",
    "N = 1_000"
   ]
  },
  {
   "cell_type": "code",
   "execution_count": 5,
   "metadata": {},
   "outputs": [],
   "source": [
    "df = pl.DataFrame(\n",
    "    {\n",
    "        \"convert\": [s.sentence() for _ in range(N)],\n",
    "    }\n",
    ")"
   ]
  },
  {
   "cell_type": "code",
   "execution_count": 7,
   "metadata": {},
   "outputs": [
    {
     "data": {
      "text/html": [
       "<div><style>\n",
       ".dataframe > thead > tr,\n",
       ".dataframe > tbody > tr {\n",
       "  text-align: right;\n",
       "  white-space: pre-wrap;\n",
       "}\n",
       "</style>\n",
       "<small>shape: (1_000_000, 3)</small><table border=\"1\" class=\"dataframe\"><thead><tr><th>convert</th><th>pascal_case</th><th>snake_case</th></tr><tr><td>str</td><td>str</td><td>str</td></tr></thead><tbody><tr><td>&quot;The impossible…</td><td>&quot;TheImpossibleM…</td><td>&quot;the_impossible…</td></tr><tr><td>&quot;The nifty flug…</td><td>&quot;TheNiftyFlugel…</td><td>&quot;the_nifty_flug…</td></tr><tr><td>&quot;The cautious l…</td><td>&quot;TheCautiousLil…</td><td>&quot;the_cautious_l…</td></tr><tr><td>&quot;The worthless …</td><td>&quot;TheWorthlessDo…</td><td>&quot;the_worthless_…</td></tr><tr><td>&quot;The rampant co…</td><td>&quot;TheRampantComp…</td><td>&quot;the_rampant_co…</td></tr><tr><td>&quot;The fabulous l…</td><td>&quot;TheFabulousLog…</td><td>&quot;the_fabulous_l…</td></tr><tr><td>&quot;The brash lesb…</td><td>&quot;TheBrashLesbia…</td><td>&quot;the_brash_lesb…</td></tr><tr><td>&quot;The obsolete g…</td><td>&quot;TheObsoleteGua…</td><td>&quot;the_obsolete_g…</td></tr><tr><td>&quot;The toothsome …</td><td>&quot;TheToothsomeMe…</td><td>&quot;the_toothsome_…</td></tr><tr><td>&quot;The cute vol r…</td><td>&quot;TheCuteVolReli…</td><td>&quot;the_cute_vol_r…</td></tr><tr><td>&quot;The earsplitti…</td><td>&quot;TheEarsplittin…</td><td>&quot;the_earsplitti…</td></tr><tr><td>&quot;The flawless h…</td><td>&quot;TheFlawlessHyd…</td><td>&quot;the_flawless_h…</td></tr><tr><td>&hellip;</td><td>&hellip;</td><td>&hellip;</td></tr><tr><td>&quot;The nervous sl…</td><td>&quot;TheNervousSlee…</td><td>&quot;the_nervous_sl…</td></tr><tr><td>&quot;The rabid beat…</td><td>&quot;TheRabidBeatFl…</td><td>&quot;the_rabid_beat…</td></tr><tr><td>&quot;The chunky add…</td><td>&quot;TheChunkyAddic…</td><td>&quot;the_chunky_add…</td></tr><tr><td>&quot;The spotless f…</td><td>&quot;TheSpotlessFas…</td><td>&quot;the_spotless_f…</td></tr><tr><td>&quot;The swanky ris…</td><td>&quot;TheSwankyRiseY…</td><td>&quot;the_swanky_ris…</td></tr><tr><td>&quot;The frightened…</td><td>&quot;TheFrightenedP…</td><td>&quot;the_frightened…</td></tr><tr><td>&quot;The old-fashio…</td><td>&quot;TheOldfashione…</td><td>&quot;the_oldfashion…</td></tr><tr><td>&quot;The elderly no…</td><td>&quot;TheElderlyNoti…</td><td>&quot;the_elderly_no…</td></tr><tr><td>&quot;The axiomatic …</td><td>&quot;TheAxiomaticBe…</td><td>&quot;the_axiomatic_…</td></tr><tr><td>&quot;The moldy lane…</td><td>&quot;TheMoldyLaneIn…</td><td>&quot;the_moldy_lane…</td></tr><tr><td>&quot;The noxious sp…</td><td>&quot;TheNoxiousSpre…</td><td>&quot;the_noxious_sp…</td></tr><tr><td>&quot;The few homose…</td><td>&quot;TheFewHomosexu…</td><td>&quot;the_few_homose…</td></tr></tbody></table></div>"
      ],
      "text/plain": [
       "shape: (1_000_000, 3)\n",
       "┌────────────────────────────┬──────────────────────────────────┬──────────────────────────────────┐\n",
       "│ convert                    ┆ pascal_case                      ┆ snake_case                       │\n",
       "│ ---                        ┆ ---                              ┆ ---                              │\n",
       "│ str                        ┆ str                              ┆ str                              │\n",
       "╞════════════════════════════╪══════════════════════════════════╪══════════════════════════════════╡\n",
       "│ The impossible marshmallow ┆ TheImpossibleMarshmallowReconcil ┆ the_impossible_marshmallow_recon │\n",
       "│ recon…                     ┆ …                                ┆ …                                │\n",
       "│ The nifty flugelhorn means ┆ TheNiftyFlugelhornMeansRetailer  ┆ the_nifty_flugelhorn_means_retai │\n",
       "│ retai…                     ┆                                  ┆ …                                │\n",
       "│ The cautious lilac owns    ┆ TheCautiousLilacOwnsDirection    ┆ the_cautious_lilac_owns_directio │\n",
       "│ directio…                  ┆                                  ┆ …                                │\n",
       "│ The worthless dollop deals ┆ TheWorthlessDollopDealsSpyglass  ┆ the_worthless_dollop_deals_spygl │\n",
       "│ spygl…                     ┆                                  ┆ …                                │\n",
       "│ …                          ┆ …                                ┆ …                                │\n",
       "│ The axiomatic beneficiary  ┆ TheAxiomaticBeneficiaryForgivesS ┆ the_axiomatic_beneficiary_forgiv │\n",
       "│ forgiv…                    ┆ …                                ┆ …                                │\n",
       "│ The moldy lane introduces  ┆ TheMoldyLaneIntroducesWisdom     ┆ the_moldy_lane_introduces_wisdom │\n",
       "│ wisdom…                    ┆                                  ┆                                  │\n",
       "│ The noxious spree perfects ┆ TheNoxiousSpreePerfectsPanther   ┆ the_noxious_spree_perfects_panth │\n",
       "│ panth…                     ┆                                  ┆ …                                │\n",
       "│ The few homosexuality      ┆ TheFewHomosexualityOvercomesFree ┆ the_few_homosexuality_overcomes_ │\n",
       "│ overcomes …                ┆ …                                ┆ …                                │\n",
       "└────────────────────────────┴──────────────────────────────────┴──────────────────────────────────┘"
      ]
     },
     "execution_count": 7,
     "metadata": {},
     "output_type": "execute_result"
    }
   ],
   "source": [
    "out = df.with_columns(\n",
    "    pascal_case=pl.col(\"convert\").casing.pascal_case(),\n",
    "    snake_case=pl.col(\"convert\").casing.snake_case(),\n",
    ")\n",
    "\n",
    "out"
   ]
  },
  {
   "cell_type": "code",
   "execution_count": 6,
   "metadata": {},
   "outputs": [],
   "source": [
    "import re\n",
    "\n",
    "\n",
    "def pascal_case_regex(s: str) -> str:\n",
    "    return re.sub(r\"(\\w)([A-Z])\", r\"\\1_\\2\", s).title().replace(\" \", \"\")\n",
    "\n",
    "\n",
    "def snake_case_regex(s: str) -> str:\n",
    "    return s.lower().replace(\" \", \"_\")\n",
    "\n",
    "\n",
    "def pascal_case_naive(s: str) -> str:\n",
    "    return \"\".join([w.title() for w in s.split(\" \")])\n",
    "\n",
    "\n",
    "def snake_case_naive(s: str) -> str:\n",
    "    return \"_\".join([w.lower() for w in s.split(\" \")])\n",
    "\n",
    "\n",
    "def snake_case_dumb(s: str) -> str:\n",
    "    new_s = \"\"\n",
    "    for c in s:\n",
    "        if c == \" \":\n",
    "            new_s += \"_\"\n",
    "        else:\n",
    "            new_s += c.lower()\n",
    "    return new_s\n",
    "\n",
    "\n",
    "def pascal_case_dumb(s: str) -> str:\n",
    "    new_s = \"\"\n",
    "    next_capitalize = True\n",
    "    for c in s:\n",
    "        if c == \" \":\n",
    "            new_s += \"\"\n",
    "            next_capitalize = True\n",
    "        else:\n",
    "            if next_capitalize:\n",
    "                new_s += c.upper()\n",
    "            else:\n",
    "                new_s += c.lower()\n",
    "            next_capitalize = False\n",
    "    return new_s"
   ]
  },
  {
   "cell_type": "code",
   "execution_count": 7,
   "metadata": {},
   "outputs": [
    {
     "data": {
      "text/html": [
       "<div><style>\n",
       ".dataframe > thead > tr,\n",
       ".dataframe > tbody > tr {\n",
       "  text-align: right;\n",
       "  white-space: pre-wrap;\n",
       "}\n",
       "</style>\n",
       "<small>shape: (1_000, 3)</small><table border=\"1\" class=\"dataframe\"><thead><tr><th>convert</th><th>pascal_case_naive</th><th>snake_case_naive</th></tr><tr><td>str</td><td>str</td><td>str</td></tr></thead><tbody><tr><td>&quot;The plain bonn…</td><td>&quot;ThePlainBonnet…</td><td>&quot;the_plain_bonn…</td></tr><tr><td>&quot;The silly meme…</td><td>&quot;TheSillyMemePr…</td><td>&quot;the_silly_meme…</td></tr><tr><td>&quot;The cloudy spr…</td><td>&quot;TheCloudySpray…</td><td>&quot;the_cloudy_spr…</td></tr><tr><td>&quot;The numerous t…</td><td>&quot;TheNumerousTra…</td><td>&quot;the_numerous_t…</td></tr><tr><td>&quot;The romantic c…</td><td>&quot;TheRomanticCon…</td><td>&quot;the_romantic_c…</td></tr><tr><td>&quot;The glamorous …</td><td>&quot;TheGlamorousLi…</td><td>&quot;the_glamorous_…</td></tr><tr><td>&quot;The dispensabl…</td><td>&quot;TheDispensable…</td><td>&quot;the_dispensabl…</td></tr><tr><td>&quot;The optimal ch…</td><td>&quot;TheOptimalChif…</td><td>&quot;the_optimal_ch…</td></tr><tr><td>&quot;The loud elixi…</td><td>&quot;TheLoudElixirF…</td><td>&quot;the_loud_elixi…</td></tr><tr><td>&quot;The relieved w…</td><td>&quot;TheRelievedWar…</td><td>&quot;the_relieved_w…</td></tr><tr><td>&quot;The glamorous …</td><td>&quot;TheGlamorousCu…</td><td>&quot;the_glamorous_…</td></tr><tr><td>&quot;The unbecoming…</td><td>&quot;TheUnbecomingB…</td><td>&quot;the_unbecoming…</td></tr><tr><td>&hellip;</td><td>&hellip;</td><td>&hellip;</td></tr><tr><td>&quot;The good sack …</td><td>&quot;TheGoodSackAff…</td><td>&quot;the_good_sack_…</td></tr><tr><td>&quot;The fabulous c…</td><td>&quot;TheFabulousClo…</td><td>&quot;the_fabulous_c…</td></tr><tr><td>&quot;The tight fant…</td><td>&quot;TheTightFantas…</td><td>&quot;the_tight_fant…</td></tr><tr><td>&quot;The racial sup…</td><td>&quot;TheRacialSuper…</td><td>&quot;the_racial_sup…</td></tr><tr><td>&quot;The busy inhib…</td><td>&quot;TheBusyInhibit…</td><td>&quot;the_busy_inhib…</td></tr><tr><td>&quot;The auspicious…</td><td>&quot;TheAuspiciousB…</td><td>&quot;the_auspicious…</td></tr><tr><td>&quot;The flowery bi…</td><td>&quot;TheFloweryBird…</td><td>&quot;the_flowery_bi…</td></tr><tr><td>&quot;The devilish s…</td><td>&quot;TheDevilishSub…</td><td>&quot;the_devilish_s…</td></tr><tr><td>&quot;The grouchy ke…</td><td>&quot;TheGrouchyKetc…</td><td>&quot;the_grouchy_ke…</td></tr><tr><td>&quot;The jobless pr…</td><td>&quot;TheJoblessPrac…</td><td>&quot;the_jobless_pr…</td></tr><tr><td>&quot;The disturbed …</td><td>&quot;TheDisturbedRu…</td><td>&quot;the_disturbed_…</td></tr><tr><td>&quot;The elderly co…</td><td>&quot;TheElderlyCons…</td><td>&quot;the_elderly_co…</td></tr></tbody></table></div>"
      ],
      "text/plain": [
       "shape: (1_000, 3)\n",
       "┌────────────────────────────────┬────────────────────────────────┬────────────────────────────────┐\n",
       "│ convert                        ┆ pascal_case_naive              ┆ snake_case_naive               │\n",
       "│ ---                            ┆ ---                            ┆ ---                            │\n",
       "│ str                            ┆ str                            ┆ str                            │\n",
       "╞════════════════════════════════╪════════════════════════════════╪════════════════════════════════╡\n",
       "│ The plain bonnet pops tell.    ┆ ThePlainBonnetPopsTell.        ┆ the_plain_bonnet_pops_tell.    │\n",
       "│ The silly meme preaches        ┆ TheSillyMemePreachesSpending.  ┆ the_silly_meme_preaches_spendi │\n",
       "│ spending…                      ┆                                ┆ ng…                            │\n",
       "│ The cloudy spray scolds knee.  ┆ TheCloudySprayScoldsKnee.      ┆ the_cloudy_spray_scolds_knee.  │\n",
       "│ The numerous tragedy           ┆ TheNumerousTragedyOfficiatesCa ┆ the_numerous_tragedy_officiate │\n",
       "│ officiates …                   ┆ rn…                            ┆ s_…                            │\n",
       "│ …                              ┆ …                              ┆ …                              │\n",
       "│ The grouchy ketch casts        ┆ TheGrouchyKetchCastsSculpting. ┆ the_grouchy_ketch_casts_sculpt │\n",
       "│ sculptin…                      ┆                                ┆ in…                            │\n",
       "│ The jobless practitioner       ┆ TheJoblessPractitionerGraduate ┆ the_jobless_practitioner_gradu │\n",
       "│ graduat…                       ┆ sB…                            ┆ at…                            │\n",
       "│ The disturbed ruffle confronts ┆ TheDisturbedRuffleConfrontsFir ┆ the_disturbed_ruffle_confronts │\n",
       "│ f…                             ┆ ew…                            ┆ _f…                            │\n",
       "│ The elderly conservative hands ┆ TheElderlyConservativeHandsSer ┆ the_elderly_conservative_hands │\n",
       "│ s…                             ┆ va…                            ┆ _s…                            │\n",
       "└────────────────────────────────┴────────────────────────────────┴────────────────────────────────┘"
      ]
     },
     "execution_count": 7,
     "metadata": {},
     "output_type": "execute_result"
    }
   ],
   "source": [
    "df2 = df.with_columns(\n",
    "    pascal_case_naive=pl.col(\"convert\").map_elements(pascal_case_regex),\n",
    "    snake_case_naive=pl.col(\"convert\").map_elements(snake_case_regex),\n",
    ")\n",
    "\n",
    "df2"
   ]
  },
  {
   "cell_type": "code",
   "execution_count": null,
   "metadata": {},
   "outputs": [],
   "source": []
  }
 ],
 "metadata": {
  "kernelspec": {
   "display_name": ".venv",
   "language": "python",
   "name": "python3"
  },
  "language_info": {
   "codemirror_mode": {
    "name": "ipython",
    "version": 3
   },
   "file_extension": ".py",
   "mimetype": "text/x-python",
   "name": "python",
   "nbconvert_exporter": "python",
   "pygments_lexer": "ipython3",
   "version": "3.10.13"
  }
 },
 "nbformat": 4,
 "nbformat_minor": 2
}
