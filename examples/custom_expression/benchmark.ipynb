{
 "cells": [
  {
   "cell_type": "code",
   "execution_count": 6,
   "metadata": {},
   "outputs": [],
   "source": [
    "import polars as pl\n",
    "from polars_casing import Casing  # noqa\n",
    "from wonderwords import RandomSentence\n",
    "\n",
    "\n",
    "s = RandomSentence()\n",
    "N = 10_000"
   ]
  },
  {
   "cell_type": "code",
   "execution_count": 7,
   "metadata": {},
   "outputs": [],
   "source": [
    "df = pl.DataFrame(\n",
    "    {\n",
    "        \"convert\": [s.sentence() for _ in range(N)],\n",
    "    }\n",
    ")"
   ]
  },
  {
   "cell_type": "code",
   "execution_count": 8,
   "metadata": {},
   "outputs": [
    {
     "data": {
      "text/html": [
       "<div><style>\n",
       ".dataframe > thead > tr,\n",
       ".dataframe > tbody > tr {\n",
       "  text-align: right;\n",
       "  white-space: pre-wrap;\n",
       "}\n",
       "</style>\n",
       "<small>shape: (10_000, 3)</small><table border=\"1\" class=\"dataframe\"><thead><tr><th>convert</th><th>pascal_case</th><th>snake_case</th></tr><tr><td>str</td><td>str</td><td>str</td></tr></thead><tbody><tr><td>&quot;The vague prog…</td><td>&quot;TheVagueProgre…</td><td>&quot;the_vague_prog…</td></tr><tr><td>&quot;The fancy terr…</td><td>&quot;TheFancyTerror…</td><td>&quot;the_fancy_terr…</td></tr><tr><td>&quot;The watchful g…</td><td>&quot;TheWatchfulGra…</td><td>&quot;the_watchful_g…</td></tr><tr><td>&quot;The muddy angu…</td><td>&quot;TheMuddyAnguis…</td><td>&quot;the_muddy_angu…</td></tr><tr><td>&quot;The spicy yogu…</td><td>&quot;TheSpicyYogurt…</td><td>&quot;the_spicy_yogu…</td></tr><tr><td>&quot;The screeching…</td><td>&quot;TheScreechingT…</td><td>&quot;the_screeching…</td></tr><tr><td>&quot;The cruel musc…</td><td>&quot;TheCruelMuscle…</td><td>&quot;the_cruel_musc…</td></tr><tr><td>&quot;The ludicrous …</td><td>&quot;TheLudicrousGl…</td><td>&quot;the_ludicrous_…</td></tr><tr><td>&quot;The towering g…</td><td>&quot;TheToweringGor…</td><td>&quot;the_towering_g…</td></tr><tr><td>&quot;The roomy runa…</td><td>&quot;TheRoomyRunawa…</td><td>&quot;the_roomy_runa…</td></tr><tr><td>&quot;The toothsome …</td><td>&quot;TheToothsomeCu…</td><td>&quot;the_toothsome_…</td></tr><tr><td>&quot;The bright swi…</td><td>&quot;TheBrightSwive…</td><td>&quot;the_bright_swi…</td></tr><tr><td>&hellip;</td><td>&hellip;</td><td>&hellip;</td></tr><tr><td>&quot;The dramatic b…</td><td>&quot;TheDramaticBoo…</td><td>&quot;the_dramatic_b…</td></tr><tr><td>&quot;The jaded prom…</td><td>&quot;TheJadedPromot…</td><td>&quot;the_jaded_prom…</td></tr><tr><td>&quot;The psychedeli…</td><td>&quot;ThePsychedelic…</td><td>&quot;the_psychedeli…</td></tr><tr><td>&quot;The loving par…</td><td>&quot;TheLovingParam…</td><td>&quot;the_loving_par…</td></tr><tr><td>&quot;The ruthless n…</td><td>&quot;TheRuthlessNew…</td><td>&quot;the_ruthless_n…</td></tr><tr><td>&quot;The damaging l…</td><td>&quot;TheDamagingLat…</td><td>&quot;the_damaging_l…</td></tr><tr><td>&quot;The impossible…</td><td>&quot;TheImpossibleE…</td><td>&quot;the_impossible…</td></tr><tr><td>&quot;The pathetic c…</td><td>&quot;ThePatheticCen…</td><td>&quot;the_pathetic_c…</td></tr><tr><td>&quot;The angry regi…</td><td>&quot;TheAngryRegist…</td><td>&quot;the_angry_regi…</td></tr><tr><td>&quot;The unusual pu…</td><td>&quot;TheUnusualPuri…</td><td>&quot;the_unusual_pu…</td></tr><tr><td>&quot;The wonderful …</td><td>&quot;TheWonderfulHa…</td><td>&quot;the_wonderful_…</td></tr><tr><td>&quot;The annoyed sh…</td><td>&quot;TheAnnoyedShir…</td><td>&quot;the_annoyed_sh…</td></tr></tbody></table></div>"
      ],
      "text/plain": [
       "shape: (10_000, 3)\n",
       "┌────────────────────────────────┬────────────────────────────────┬────────────────────────────────┐\n",
       "│ convert                        ┆ pascal_case                    ┆ snake_case                     │\n",
       "│ ---                            ┆ ---                            ┆ ---                            │\n",
       "│ str                            ┆ str                            ┆ str                            │\n",
       "╞════════════════════════════════╪════════════════════════════════╪════════════════════════════════╡\n",
       "│ The vague progression          ┆ TheVagueProgressionSurroundsPe ┆ the_vague_progression_surround │\n",
       "│ surrounds …                    ┆ nc…                            ┆ s_…                            │\n",
       "│ The fancy terror moors         ┆ TheFancyTerrorMoorsPhotorecept ┆ the_fancy_terror_moors_photore │\n",
       "│ photorece…                     ┆ or…                            ┆ ce…                            │\n",
       "│ The watchful graph leans       ┆ TheWatchfulGraphLeansGavel.    ┆ the_watchful_graph_leans_gavel │\n",
       "│ gavel.                         ┆                                ┆ .                              │\n",
       "│ The muddy anguish intensifies  ┆ TheMuddyAnguishIntensifiesHydr ┆ the_muddy_anguish_intensifies_ │\n",
       "│ hy…                            ┆ ol…                            ┆ hy…                            │\n",
       "│ …                              ┆ …                              ┆ …                              │\n",
       "│ The angry register signs       ┆ TheAngryRegisterSignsRestricti ┆ the_angry_register_signs_restr │\n",
       "│ restric…                       ┆ on…                            ┆ ic…                            │\n",
       "│ The unusual purity dispenses   ┆ TheUnusualPurityDispensesGoril ┆ the_unusual_purity_dispenses_g │\n",
       "│ gor…                           ┆ la…                            ┆ or…                            │\n",
       "│ The wonderful haze bans        ┆ TheWonderfulHazeBansNeuropatho ┆ the_wonderful_haze_bans_neurop │\n",
       "│ neuropat…                      ┆ lo…                            ┆ at…                            │\n",
       "│ The annoyed shirtdress         ┆ TheAnnoyedShirtdressResearches ┆ the_annoyed_shirtdress_researc │\n",
       "│ researche…                     ┆ Ey…                            ┆ he…                            │\n",
       "└────────────────────────────────┴────────────────────────────────┴────────────────────────────────┘"
      ]
     },
     "execution_count": 8,
     "metadata": {},
     "output_type": "execute_result"
    }
   ],
   "source": [
    "out = df.with_columns(\n",
    "    pascal_case=pl.col(\"convert\").casing.pascal_case(),\n",
    "    snake_case=pl.col(\"convert\").casing.snake_case(),\n",
    ")\n",
    "\n",
    "out"
   ]
  },
  {
   "cell_type": "code",
   "execution_count": 22,
   "metadata": {},
   "outputs": [],
   "source": [
    "def pascal_case_naive(s: str) -> str:\n",
    "    return \"\".join([w.capitalize() for w in s.split(\" \")])\n",
    "\n",
    "\n",
    "def snake_case_naive(s: str) -> str:\n",
    "    return \"_\".join([w.lower() for w in s.split(\" \")])\n",
    "\n",
    "\n",
    "def snake_case_dumb(s: str) -> str:\n",
    "    new_s = \"\"\n",
    "    for c in s:\n",
    "        if c == \" \":\n",
    "            new_s += \"_\"\n",
    "        else:\n",
    "            new_s += c.lower()\n",
    "    return new_s\n",
    "\n",
    "\n",
    "def pascal_case_dumb(s: str) -> str:\n",
    "    new_s = \"\"\n",
    "    next_capitalize = True\n",
    "    for c in s:\n",
    "        if c == \" \":\n",
    "            new_s += \"\"\n",
    "            next_capitalize = True\n",
    "        else:\n",
    "            if next_capitalize:\n",
    "                new_s += c.upper()\n",
    "            else:\n",
    "                new_s += c.lower()\n",
    "            next_capitalize = False\n",
    "    return new_s"
   ]
  },
  {
   "cell_type": "code",
   "execution_count": 24,
   "metadata": {},
   "outputs": [
    {
     "data": {
      "text/html": [
       "<div><style>\n",
       ".dataframe > thead > tr,\n",
       ".dataframe > tbody > tr {\n",
       "  text-align: right;\n",
       "  white-space: pre-wrap;\n",
       "}\n",
       "</style>\n",
       "<small>shape: (10_000, 3)</small><table border=\"1\" class=\"dataframe\"><thead><tr><th>convert</th><th>pascal_case_naive</th><th>snake_case_naive</th></tr><tr><td>str</td><td>str</td><td>str</td></tr></thead><tbody><tr><td>&quot;The vague prog…</td><td>&quot;TheVagueProgre…</td><td>&quot;the_vague_prog…</td></tr><tr><td>&quot;The fancy terr…</td><td>&quot;TheFancyTerror…</td><td>&quot;the_fancy_terr…</td></tr><tr><td>&quot;The watchful g…</td><td>&quot;TheWatchfulGra…</td><td>&quot;the_watchful_g…</td></tr><tr><td>&quot;The muddy angu…</td><td>&quot;TheMuddyAnguis…</td><td>&quot;the_muddy_angu…</td></tr><tr><td>&quot;The spicy yogu…</td><td>&quot;TheSpicyYogurt…</td><td>&quot;the_spicy_yogu…</td></tr><tr><td>&quot;The screeching…</td><td>&quot;TheScreechingT…</td><td>&quot;the_screeching…</td></tr><tr><td>&quot;The cruel musc…</td><td>&quot;TheCruelMuscle…</td><td>&quot;the_cruel_musc…</td></tr><tr><td>&quot;The ludicrous …</td><td>&quot;TheLudicrousGl…</td><td>&quot;the_ludicrous_…</td></tr><tr><td>&quot;The towering g…</td><td>&quot;TheToweringGor…</td><td>&quot;the_towering_g…</td></tr><tr><td>&quot;The roomy runa…</td><td>&quot;TheRoomyRunawa…</td><td>&quot;the_roomy_runa…</td></tr><tr><td>&quot;The toothsome …</td><td>&quot;TheToothsomeCu…</td><td>&quot;the_toothsome_…</td></tr><tr><td>&quot;The bright swi…</td><td>&quot;TheBrightSwive…</td><td>&quot;the_bright_swi…</td></tr><tr><td>&hellip;</td><td>&hellip;</td><td>&hellip;</td></tr><tr><td>&quot;The dramatic b…</td><td>&quot;TheDramaticBoo…</td><td>&quot;the_dramatic_b…</td></tr><tr><td>&quot;The jaded prom…</td><td>&quot;TheJadedPromot…</td><td>&quot;the_jaded_prom…</td></tr><tr><td>&quot;The psychedeli…</td><td>&quot;ThePsychedelic…</td><td>&quot;the_psychedeli…</td></tr><tr><td>&quot;The loving par…</td><td>&quot;TheLovingParam…</td><td>&quot;the_loving_par…</td></tr><tr><td>&quot;The ruthless n…</td><td>&quot;TheRuthlessNew…</td><td>&quot;the_ruthless_n…</td></tr><tr><td>&quot;The damaging l…</td><td>&quot;TheDamagingLat…</td><td>&quot;the_damaging_l…</td></tr><tr><td>&quot;The impossible…</td><td>&quot;TheImpossibleE…</td><td>&quot;the_impossible…</td></tr><tr><td>&quot;The pathetic c…</td><td>&quot;ThePatheticCen…</td><td>&quot;the_pathetic_c…</td></tr><tr><td>&quot;The angry regi…</td><td>&quot;TheAngryRegist…</td><td>&quot;the_angry_regi…</td></tr><tr><td>&quot;The unusual pu…</td><td>&quot;TheUnusualPuri…</td><td>&quot;the_unusual_pu…</td></tr><tr><td>&quot;The wonderful …</td><td>&quot;TheWonderfulHa…</td><td>&quot;the_wonderful_…</td></tr><tr><td>&quot;The annoyed sh…</td><td>&quot;TheAnnoyedShir…</td><td>&quot;the_annoyed_sh…</td></tr></tbody></table></div>"
      ],
      "text/plain": [
       "shape: (10_000, 3)\n",
       "┌────────────────────────────────┬────────────────────────────────┬────────────────────────────────┐\n",
       "│ convert                        ┆ pascal_case_naive              ┆ snake_case_naive               │\n",
       "│ ---                            ┆ ---                            ┆ ---                            │\n",
       "│ str                            ┆ str                            ┆ str                            │\n",
       "╞════════════════════════════════╪════════════════════════════════╪════════════════════════════════╡\n",
       "│ The vague progression          ┆ TheVagueProgressionSurroundsPe ┆ the_vague_progression_surround │\n",
       "│ surrounds …                    ┆ nc…                            ┆ s_…                            │\n",
       "│ The fancy terror moors         ┆ TheFancyTerrorMoorsPhotorecept ┆ the_fancy_terror_moors_photore │\n",
       "│ photorece…                     ┆ or…                            ┆ ce…                            │\n",
       "│ The watchful graph leans       ┆ TheWatchfulGraphLeansGavel.    ┆ the_watchful_graph_leans_gavel │\n",
       "│ gavel.                         ┆                                ┆ .                              │\n",
       "│ The muddy anguish intensifies  ┆ TheMuddyAnguishIntensifiesHydr ┆ the_muddy_anguish_intensifies_ │\n",
       "│ hy…                            ┆ ol…                            ┆ hy…                            │\n",
       "│ …                              ┆ …                              ┆ …                              │\n",
       "│ The angry register signs       ┆ TheAngryRegisterSignsRestricti ┆ the_angry_register_signs_restr │\n",
       "│ restric…                       ┆ on…                            ┆ ic…                            │\n",
       "│ The unusual purity dispenses   ┆ TheUnusualPurityDispensesGoril ┆ the_unusual_purity_dispenses_g │\n",
       "│ gor…                           ┆ la…                            ┆ or…                            │\n",
       "│ The wonderful haze bans        ┆ TheWonderfulHazeBansNeuropatho ┆ the_wonderful_haze_bans_neurop │\n",
       "│ neuropat…                      ┆ lo…                            ┆ at…                            │\n",
       "│ The annoyed shirtdress         ┆ TheAnnoyedShirtdressResearches ┆ the_annoyed_shirtdress_researc │\n",
       "│ researche…                     ┆ Ey…                            ┆ he…                            │\n",
       "└────────────────────────────────┴────────────────────────────────┴────────────────────────────────┘"
      ]
     },
     "execution_count": 24,
     "metadata": {},
     "output_type": "execute_result"
    }
   ],
   "source": [
    "df2 = df.with_columns(\n",
    "    pascal_case_naive=pl.col(\"convert\").map_elements(pascal_case_dumb),\n",
    "    snake_case_naive=pl.col(\"convert\").map_elements(snake_case_dumb),\n",
    ")\n",
    "\n",
    "df2"
   ]
  },
  {
   "cell_type": "code",
   "execution_count": null,
   "metadata": {},
   "outputs": [],
   "source": []
  }
 ],
 "metadata": {
  "kernelspec": {
   "display_name": ".venv",
   "language": "python",
   "name": "python3"
  },
  "language_info": {
   "codemirror_mode": {
    "name": "ipython",
    "version": 3
   },
   "file_extension": ".py",
   "mimetype": "text/x-python",
   "name": "python",
   "nbconvert_exporter": "python",
   "pygments_lexer": "ipython3",
   "version": "3.10.13"
  }
 },
 "nbformat": 4,
 "nbformat_minor": 2
}
